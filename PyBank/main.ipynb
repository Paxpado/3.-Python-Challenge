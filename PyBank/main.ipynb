{
 "cells": [
  {
   "cell_type": "code",
   "execution_count": 272,
   "id": "bbc3f185",
   "metadata": {},
   "outputs": [],
   "source": [
    "import os\n",
    "import csv\n",
    "\n",
    "budget_csv = os.path.join('..', 'Resources', 'budget_data.csv')\n",
    "\n",
    "total_Months = 0\n",
    "total_PnL = 0\n",
    "previous_PnL = 0\n",
    "PnL_change_list = []\n",
    "greatest_increase = [\"\",0]\n",
    "greatest_decrease = [\"\",0]"
   ]
  },
  {
   "cell_type": "code",
   "execution_count": 273,
   "id": "a1b84f36",
   "metadata": {},
   "outputs": [],
   "source": [
    "# Open and Read CSV\n",
    "with open(budget_csv) as csv_file:\n",
    "    csv_reader = csv.DictReader(csv_file)\n",
    "    \n",
    "    for row in csv_reader:\n",
    "        total_Months +=1\n",
    "        total_PnL = total_PnL + int(row[\"Profit/Losses\"])\n",
    "        PnL_change = int(row[\"Profit/Losses\"]) - previous_PnL\n",
    "        PnL_change_list.append(PnL_change)\n",
    "        previous_PnL = int(row[\"Profit/Losses\"])\n",
    "        \n",
    "        if PnL_change > greatest_increase[1]:\n",
    "            greatest_increase[0] = row[\"Date\"]\n",
    "            greatest_increase[1] = PnL_change\n",
    "        \n",
    "        if PnL_change < greatest_decrease[1]:\n",
    "            greatest_decrease[0] = row[\"Date\"]\n",
    "            greatest_decrease[1] = PnL_change\n",
    "\n",
    "average_PnL_change = int(sum(PnL_change_list) / len(PnL_change_list))\n"
   ]
  },
  {
   "cell_type": "code",
   "execution_count": 274,
   "id": "281fe542",
   "metadata": {},
   "outputs": [
    {
     "name": "stdout",
     "output_type": "stream",
     "text": [
      "\n",
      "Financial Analysis\n",
      "--------------------------------------\n",
      "Total Months : 86\n",
      "Total: $38382578\n",
      "Average Change : $7803\n",
      "Greatest Increase in Profits : Feb-2012 ($1926159)\n",
      "Greatest Decrease in Profits : Sep-2013 ($-2196167)\n",
      "\n"
     ]
    }
   ],
   "source": [
    "#Generate Result\n",
    "result = (\n",
    "    f\"\\nFinancial Analysis\\n\"\n",
    "    f\"--------------------------------------\\n\"\n",
    "    f\"Total Months : {total_Months}\\n\"\n",
    "    f\"Total: ${total_PnL}\\n\"\n",
    "    f\"Average Change : ${average_PnL_change}\\n\"\n",
    "    f\"Greatest Increase in Profits : {greatest_increase[0]} (${greatest_increase[1]})\\n\"\n",
    "    f\"Greatest Decrease in Profits : {greatest_decrease[0]} (${greatest_decrease[1]})\\n\")\n",
    "\n",
    "print(result)"
   ]
  },
  {
   "cell_type": "code",
   "execution_count": 275,
   "id": "bc1b4938",
   "metadata": {},
   "outputs": [],
   "source": [
    "output_path = os.path.join(\"..\",\"analysis\",\"PyBank analysis.txt\")"
   ]
  },
  {
   "cell_type": "code",
   "execution_count": 276,
   "id": "2cd921d2",
   "metadata": {},
   "outputs": [],
   "source": [
    "with open(output_path, 'w') as csvfile:\n",
    "    csvfile.write(result)\n",
    "    \n"
   ]
  },
  {
   "cell_type": "code",
   "execution_count": null,
   "id": "9226a461",
   "metadata": {},
   "outputs": [],
   "source": []
  }
 ],
 "metadata": {
  "kernelspec": {
   "display_name": "Python 3",
   "language": "python",
   "name": "python3"
  },
  "language_info": {
   "codemirror_mode": {
    "name": "ipython",
    "version": 3
   },
   "file_extension": ".py",
   "mimetype": "text/x-python",
   "name": "python",
   "nbconvert_exporter": "python",
   "pygments_lexer": "ipython3",
   "version": "3.8.8"
  }
 },
 "nbformat": 4,
 "nbformat_minor": 5
}

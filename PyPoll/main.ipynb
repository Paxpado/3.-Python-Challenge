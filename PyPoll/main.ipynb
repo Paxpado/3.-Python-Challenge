{
 "cells": [
  {
   "cell_type": "code",
   "execution_count": 94,
   "id": "41fc4005",
   "metadata": {},
   "outputs": [
    {
     "name": "stdout",
     "output_type": "stream",
     "text": [
      "\n",
      "Election Results\n",
      "----------------------------\n",
      "Total Votes : 3521001\n",
      "----------------------------\n",
      "\n",
      "Khan:63.000% (2218231)\n",
      "\n",
      "Correy:20.000% (704200)\n",
      "\n",
      "Li:14.000% (492940)\n",
      "\n",
      "O'Tooley:3.000% (105630)\n",
      "\n",
      "----------------------------\n",
      "Winner: Khan\n",
      "----------------------------\n",
      "\n"
     ]
    }
   ],
   "source": [
    "import os\n",
    "import csv\n",
    "\n",
    "election_csv = os.path.join('..', 'Resources', 'election_data.csv')\n",
    "output_path = os.path.join(\"..\",\"analysis\",\"PyPoll analysis.txt\")\n",
    "\n",
    "#Parameters\n",
    "vote_count = 0\n",
    "candidate_list = []\n",
    "candidate_vote = {}\n",
    "winner_name = \"\"\n",
    "winner_vote = 0\n",
    "\n",
    "#Open and read CSV\n",
    "with open(election_csv) as f:\n",
    "    reader = csv.DictReader(f)\n",
    "    \n",
    "    for row in reader:\n",
    "        #count total votes\n",
    "        vote_count += 1\n",
    "        #Add candidate to the list - if not already included\n",
    "        candidate_name = row[\"Candidate\"]\n",
    "        \n",
    "        if candidate_name not in candidate_list:\n",
    "            candidate_list.append(candidate_name)\n",
    "            candidate_vote[candidate_name] = 0\n",
    "            \n",
    "        candidate_vote[candidate_name] = candidate_vote[candidate_name] + 1\n",
    "\n",
    "    #Print total vote count\n",
    "    election_result = (\n",
    "        f\"\\nElection Results\\n\"\n",
    "        f\"----------------------------\\n\"\n",
    "        f\"Total Votes : {vote_count}\\n\"\n",
    "        f\"----------------------------\\n\")\n",
    "\n",
    "    print(election_result)\n",
    "\n",
    "    #Save on to the txt file\n",
    "with open(output_path, \"w\") as txt_file:    \n",
    "    txt_file.write(election_result)\n",
    "\n",
    "    #Loop through Candidate Vote\n",
    "    for candidate_name in candidate_vote:\n",
    "        #vote count & percentage for a candidate\n",
    "        votes = candidate_vote[candidate_name]\n",
    "        vote_percent = float(votes) / float(vote_count) * 100\n",
    "    \n",
    "        #print voting result by candidates\n",
    "        candidate_result = (f\"{candidate_name}:{vote_percent:.3f}% ({votes})\\n\")\n",
    "        print(candidate_result)\n",
    "    \n",
    "        #Save on to the txt file\n",
    "        txt_file.write(candidate_result)\n",
    "\n",
    "        #winner vote and name\n",
    "        if(votes>winner_vote):\n",
    "            winner_vote = votes\n",
    "            winner_name = candidate_name\n",
    "    \n",
    "        winner_result = (\n",
    "            f\"----------------------------\\n\"\n",
    "            f\"Winner: {winner_name}\\n\"\n",
    "            f\"----------------------------\\n\")\n",
    "print(winner_result)\n",
    "\n",
    "with open(output_path, \"a\") as f:\n",
    "    f.write(winner_result)"
   ]
  },
  {
   "cell_type": "code",
   "execution_count": null,
   "id": "ffb9afa6",
   "metadata": {},
   "outputs": [],
   "source": [
    "\n",
    "    "
   ]
  },
  {
   "cell_type": "code",
   "execution_count": null,
   "id": "49b24349",
   "metadata": {},
   "outputs": [],
   "source": []
  }
 ],
 "metadata": {
  "kernelspec": {
   "display_name": "Python 3",
   "language": "python",
   "name": "python3"
  },
  "language_info": {
   "codemirror_mode": {
    "name": "ipython",
    "version": 3
   },
   "file_extension": ".py",
   "mimetype": "text/x-python",
   "name": "python",
   "nbconvert_exporter": "python",
   "pygments_lexer": "ipython3",
   "version": "3.8.8"
  }
 },
 "nbformat": 4,
 "nbformat_minor": 5
}
